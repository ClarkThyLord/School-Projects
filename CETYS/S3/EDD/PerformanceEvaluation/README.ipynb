{
 "cells": [
  {
   "cell_type": "markdown",
   "metadata": {},
   "source": [
    "| Subject   |     ICC103      |\n",
    "|:----------|:-------------|\n",
    "| **Assignment  ** |   |\n",
    "| **Number of activities** |  2 |\n",
    "| **Class of assignment** |  workshop  |\n",
    "| **Assigment date** | November the 13th, 2019 |\n",
    "| **Due date** | November the 15th, 2019  |\n",
    "| **Modality** | Pair programming |\n",
    "| **Topic** | Experimental performance evaluation |\n",
    "| **Student enrollment Id's** | **Edit this field** |\n",
    "| **Authors**| Dr. Adán Hirales Carbajal |\n",
    "| **Last update date** | November the 6th, 2019 |\n",
    "\n",
    "\n",
    "# Experimental performance evaluation\n",
    "\n",
    "\n",
    "Assume two sorting algorithms quicksort and heapsort. Both have equal asymptotic growth of θ(n log⁡n), consequently, they are equally good. However, does such statement holds when mapped to a real machine architecture? In this notebook, we will address this question by evaluating their performance experimentally. The objective of the notebook is to evaluate the performance of algorithms. To do so, tasks required to gather data and to analyze it are explained. \n",
    "\n",
    "Before proceding, since you will be working on a remote server, it is convinient to understand the following **terminology**:\n",
    "- **Process**,  is the instance of a computer program that is being executed by one or many threads.  \n",
    "- **working set**, is the set of pages in the virtual address space of the process that are currently resident in physical memory.The working set can be divided into code working set and data working set. When a process starts it is unlikely to be in the local processor cache, so a context-switch causes a flurry of cache misses, and may run slow until it builds its working set. However, if data is not found in cache, it may also produce caches misses and context switch is produces, slowing down execution.\n",
    "- **Host**, remote server that provides one or more services, for example: processing, storage, http content, users, etc.\n",
    "- **Root directory**, is the user's home directory on the host. On Unix you print your home directory by executing echo \\$HOME.  \n",
    "- **likwid perfctr**, is a library that allows access to CPU performance counters. It was developed by Roehl,T., Treibig, J ., Hager, G ., Wellein, and G. See [lidwid](https://github.com/RRZE-HPC/likwid/wiki). \n",
    "- **[MobaXterm](https://mobaxterm.mobatek.net/demo.html)**, is terminal which enables connection to a host server.\n",
    "\n",
    "For this notebook, likwid was install in a Dell PowerEdge server. If you plan to conduct instrumentation on your machine, unsure gcc, cmake, and likwid is install. Performance profiling libraries, such as likwid and many others, may induce runtime overhead due to instrumentation. Thus, runtime may be smaller if no profiling is conducted. Profiling helps understand how your program uses machine resources.\n",
    "\n",
    "In what follows, I will assume you have knowledge of the two sorting algorithms we will analyze. Thus, we will focus on:\n",
    "- How to connect to the remote server.\n",
    "- How to prepare a cmake project to produce two executables.\n",
    "- How to generate sythectic workloads.\n",
    "- Identify and understand what machine resources can be instrumented.\n",
    "- Automation of the instrumentation process.\n",
    "- Plotting and insterpretation of resuts.\n",
    "\n",
    "You may download or clone this workbook from [unit_testing_with_cmake/performance_evaluation](https://github.com/ahiralesc/unit_testing_with_cmake/tree/master/performance_evaluation) in github. After completing the notebook. You must replicate this procedure for your project (or assigment) and complete your poster."
   ]
  },
  {
   "cell_type": "markdown",
   "metadata": {},
   "source": [
    "##  How to connect to the remote server\n",
    "\n",
    "<p>The remote server you will be working on IP is 10.10.11.101. Your network administrator will assign a user in due time. You must connect to it via ssh using a client of your preference (MobaXterm, putty, or other). The communication protocol you must use is ssh via port 22. See Fig. 1.</p>\n",
    "\n",
    "<br><br><center><img src=img/img1.png hight=800, width=800>Fig. 1. MobaXTerm client.</img></center>\n",
    "\n",
    "Specify your user name and press the ok button. The terminal window will request your password. You may chose to save your password to facilitate future logins. Once logged in the client will display a terminal window. See Fig. 2.\n",
    "\n",
    "<br><br><center><img src=img/img2.png hight=800, width=800>Fig. 2. Terminal window.</img></center>\n",
    "\n",
    "On the lower left corner of the client terminal contains a checkbox titled *follow terminal folder*, if selected, a change of directory in command prompt triggers a change of directory in *sftp* tab. window to drag and drop files from your machine to the server. Now is your turn! Connect to the remote server."
   ]
  },
  {
   "cell_type": "markdown",
   "metadata": {},
   "source": [
    "## How to prepare a cmake project to produce two executables\n",
    "\n",
    "We know turn to the development environment. I have previously created a project working directory, which in the following example is show as a dot. The project directory structure is as follows."
   ]
  },
  {
   "cell_type": "code",
   "execution_count": 4,
   "metadata": {
    "collapsed": false
   },
   "outputs": [
    {
     "name": "stdout",
     "output_type": "stream",
     "text": [
      ".\n",
      "├── analysis\n",
      "├── build\n",
      "├── CMakeLists.txt\n",
      "├── img\n",
      "│   ├── img1.png\n",
      "│   ├── img2.png\n",
      "│   ├── img3.jpg\n",
      "│   ├── img3.png\n",
      "│   └── img4.jpeg\n",
      "├── include\n",
      "│   ├── heapsort.hpp\n",
      "│   └── quicksort.hpp\n",
      "├── Lab_experimental_performance_eval.ipynb\n",
      "├── Lab_Exp_Perf_Eval.tar\n",
      "├── scripts\n",
      "│   ├── evaluate.sh\n",
      "│   └── workload.sh\n",
      "├── src\n",
      "│   ├── heapsort.cpp\n",
      "│   └── quicksort.cpp\n",
      "└── workload\n",
      "\n",
      "7 directories, 14 files\n"
     ]
    }
   ],
   "source": [
    "%%bash\n",
    "tree -L 2 ."
   ]
  },
  {
   "cell_type": "markdown",
   "metadata": {},
   "source": [
    "The project subdirectories are:\n",
    "- *analysis*, we will use this directory to store experimental results.\n",
    "- *build*, it will contain the project configuration files, objects, and executable. Remember, these are built after running *cmake -Bbuild -H.*\n",
    "- *include*, stores the project header files.\n",
    "- *scripts*, a script that produces a syntectic workload (random numbers) and that automate the instrumentation process are stored here.\n",
    "- *src*, stores the program source code.\n",
    "- and *workload*, we will use this subdirectory to store the syntetic workloads that we will create.\n",
    "\n",
    "For convenience, I have store the jupyter notebook on the project root (Lab_experimental_performance_eval.ipynb). The notebook is not required by the project build process. Note, it is likely that after cloning or dowloading file to your machine or account execution were not automatically granted to the scripts. Thus, you must do so as follows "
   ]
  },
  {
   "cell_type": "code",
   "execution_count": 2,
   "metadata": {
    "collapsed": false
   },
   "outputs": [
    {
     "name": "stdout",
     "output_type": "stream",
     "text": [
      "total 8\n",
      "-rwxrwxr-x 1 ahiralesc ahiralesc 502 Nov 11 07:33 evaluate.sh\n",
      "-rwxrwxr-x 1 ahiralesc ahiralesc 133 Nov 12 09:13 workload.sh\n"
     ]
    }
   ],
   "source": [
    "%%bash\n",
    "chmod +x scripts/*.sh\n",
    "ls -Al scripts/"
   ]
  },
  {
   "cell_type": "markdown",
   "metadata": {},
   "source": [
    "Here, the *chmod +x* command granted *.sh files execution permission. In this example, the CMakeLists.txt file was modified so that it produces two executables."
   ]
  },
  {
   "cell_type": "code",
   "execution_count": 6,
   "metadata": {
    "collapsed": false
   },
   "outputs": [
    {
     "name": "stdout",
     "output_type": "stream",
     "text": [
      "cmake_minimum_required(VERSION 3.5.1)\n",
      "project(perfeval)\n",
      "\n",
      "set(CMAKE_BUILD_TYPE Release)\n",
      "set(CMAKE_CXX_STANDARD 11)\n",
      "set(CMAKE_CXX_STANDARD_REQUIRED ON)\n",
      "\n",
      "# Build type\n",
      "if (NOT CMAKE_BUILD_TYPE AND NOT CMAKE_CONFIGURATION_TYPES)\n",
      "    message(STATUS \"Setting build type to 'Debug' as none was specified.\")\n",
      "    set(CMAKE_BUILD_TYPE Debug CACHE STRING \"Choose the type of build.\" FORCE)\n",
      "    # Set the possible values of build type for cmake-gui\n",
      "    set_property(CACHE CMAKE_BUILD_TYPE PROPERTY STRINGS \"Debug\" \"Release\")\n",
      "endif ()\n",
      "\n",
      "# Header location\n",
      "include_directories( include )\n",
      "\n",
      "# Source location\n",
      "set(quicksort_src src/quicksort.cpp)\n",
      "set(heapsort_src src/heapsort.cpp)\n",
      "\n",
      "\n",
      "# Compilation flags\n",
      "if (CMAKE_COMPILER_IS_GNUCC)\n",
      "    set (CMAKE_C_FLAGS \"-D_REETRANT -Wall -Wextra -pedantic -Wno-long-long\")\n",
      "    if (CMAKE_BUILD_TYPE STREQUAL \"Debug\")\n",
      "        set (CMAKE_C_FLAGS \"${CMAKE_C_FLAGS} -ggdb -O0\")\n",
      "    elseif( CMAKE_BUILD_TYPE STREQUAL \"Release\" )\n",
      "        set (CMAKE_C_FLAGS \"${CMAKE_C_FLAGS} -DNDEBUG -O3 -fno-strict-aliasing\")\n",
      "    endif ()\n",
      "endif (CMAKE_COMPILER_IS_GNUCC)\n",
      "\n",
      "# Set client and server executable\n",
      "add_executable(quicksort ${quicksort_src})\n",
      "add_executable(heapsort  ${heapsort_src} )\n"
     ]
    }
   ],
   "source": [
    "%%bash\n",
    "cat CMakeLists.txt"
   ]
  },
  {
   "cell_type": "markdown",
   "metadata": {},
   "source": [
    "Thus cmake is instructed to produce two binaries via the *set* and *add_executable instructions*. \n",
    "\n",
    "## How to generate sythectic workloads\n",
    "We now proceed to create 10 files with random numbers with range of [0,100000000-1]. Random numbers are considerably large and may result in more computational work. Workload files are stored in the workload subdirectory."
   ]
  },
  {
   "cell_type": "code",
   "execution_count": 10,
   "metadata": {
    "collapsed": false
   },
   "outputs": [
    {
     "name": "stdout",
     "output_type": "stream",
     "text": [
      "#!/bin/bash\n",
      "awk -v n=$1 -v ofs=$2 'BEGIN {\n",
      "    srand() #semilla\n",
      "    for(i=1; i<=n; i++){\n",
      "print int(rand()*100000000) > ofs;\n",
      "    }\n",
      "}'\n"
     ]
    }
   ],
   "source": [
    "%%bash\n",
    "cat scripts/workload.sh"
   ]
  },
  {
   "cell_type": "code",
   "execution_count": 5,
   "metadata": {
    "collapsed": false
   },
   "outputs": [],
   "source": [
    "%%bash\n",
    "for i in {100000..1000000..100000}\n",
    "    do \n",
    "      tfn=workload/\"$i\".txt              # creates the target filename\n",
    "      ./scripts/workload.sh \"$i\" \"$tfn\"  # creates a workload with $i elements and stores it at file location $tfn\n",
    "    done"
   ]
  },
  {
   "cell_type": "code",
   "execution_count": 6,
   "metadata": {
    "collapsed": false
   },
   "outputs": [
    {
     "name": "stdout",
     "output_type": "stream",
     "text": [
      "workload/\n",
      "├── 1000000.txt\n",
      "├── 100000.txt\n",
      "├── 200000.txt\n",
      "├── 300000.txt\n",
      "├── 400000.txt\n",
      "├── 500000.txt\n",
      "├── 600000.txt\n",
      "├── 700000.txt\n",
      "├── 800000.txt\n",
      "└── 900000.txt\n",
      "\n",
      "0 directories, 10 files\n"
     ]
    }
   ],
   "source": [
    "%%bash\n",
    "tree -L 1 workload/"
   ]
  },
  {
   "cell_type": "markdown",
   "metadata": {},
   "source": [
    "Lets see 10 lines from one of the workloads"
   ]
  },
  {
   "cell_type": "code",
   "execution_count": 62,
   "metadata": {
    "collapsed": false
   },
   "outputs": [
    {
     "name": "stdout",
     "output_type": "stream",
     "text": [
      "92660373\n",
      "58836853\n",
      "89335348\n",
      "53894343\n",
      "89601189\n",
      "51462450\n",
      "20021630\n",
      "41865974\n",
      "29378634\n",
      "8267277\n"
     ]
    }
   ],
   "source": [
    "%%bash\n",
    "head -n 10 workload/100000.txt"
   ]
  },
  {
   "cell_type": "markdown",
   "metadata": {},
   "source": [
    "## Identify and understand what machine resources can be instrumented.\n",
    "\n",
    "In computers, hardware performance counters, or hardware counters are a set of special-purpose registers built into modern microprocessors to store the counts of hardware-related activities within computer systems. Advanced users often rely on those counters to conduct low-level performance analysis or tuning (wikipedia definition). You may seen them in action previously, for instance when you check the machine status on windows systems. See Fig. 3.\n",
    "\n",
    "<br><br><center><img src=img/img3.png hight=800, width=800>Fig. 3. Windows process manager showing realtime profiling of CPU performance counters.</img></center>\n",
    "\n",
    "In out testbed machine, memory, energy, and operation class performance counters can be instrumented. See the following table."
   ]
  },
  {
   "cell_type": "code",
   "execution_count": 11,
   "metadata": {
    "collapsed": false
   },
   "outputs": [
    {
     "name": "stdout",
     "output_type": "stream",
     "text": [
      " Group name\tDescription\n",
      "--------------------------------------------------------------------------------\n",
      "  FLOPS_AVX\tPacked AVX MFLOP/s\n",
      "     MEM_SP\tOverview of arithmetic and main memory performance\n",
      " UOPS_ISSUE\tUOPs issueing\n",
      "   TLB_DATA\tL2 data TLB miss rate/ratio\n",
      "     MEM_DP\tOverview of arithmetic and main memory performance\n",
      "    L2CACHE\tL2 cache miss rate/ratio\n",
      "   RECOVERY\tRecovery duration\n",
      "     ICACHE\tInstruction cache miss rate/ratio\n",
      "  UOPS_EXEC\tUOPs execution\n",
      "        QPI\tQPI traffic between sockets\n",
      "    L3CACHE\tL3 cache miss rate/ratio\n",
      "FALSE_SHARE\tFalse sharing\n",
      "   FLOPS_DP\tDouble Precision MFLOP/s\n",
      "       UOPS\tUOPs execution info\n",
      "         L2\tL2 cache bandwidth in MBytes/s\n",
      "      CLOCK\tPower and Energy consumption\n",
      "         L3\tL3 cache bandwidth in MBytes/s\n",
      "     ENERGY\tPower and Energy consumption\n",
      "        MEM\tMain memory bandwidth in MBytes/s\n",
      "       DATA\tLoad to store ratio\n",
      "     CACHES\tSome data from the CBOXes\n",
      "UOPS_RETIRE\tUOPs retirement\n",
      "       NUMA\tLocal and remote memory accesses\n",
      "  TLB_INSTR\tL1 Instruction TLB miss rate/ratio\n",
      "   FLOPS_SP\tSingle Precision MFLOP/s\n",
      "     BRANCH\tBranch prediction miss rate/ratio\n"
     ]
    }
   ],
   "source": [
    "%%bash\n",
    "likwid-perfctr -a"
   ]
  },
  {
   "cell_type": "markdown",
   "metadata": {},
   "source": [
    "Once a computational problem has been solved. The program runtime performance may be improved by analyzing its behaviour in memory and/or during I/O. Consider an ordinary workstation memory hierarchy\n",
    "\n",
    "\n",
    "<br><br><center><img src=img/img4.jpeg hight=800, width=800>Fig. 4. PC memory hierarcgy.</img></center>\n",
    "\n",
    "Initially, a program to execute is stored in secondary memory (hard-drive). When it is executed, its corresponding process is stored in primary memory. However, the process may not be completely stored in memory, as the data structures that it aggregates may be large compared to the amount of memory allocated to it by the operating system. Thus, some parts of the process may be left in secondary memory and some in primary memory. During the life time of the process execution it is fragmented further as its data and instructions are moved closer to cpu registers. As data or instructions may not fit completely in cache the program produce cache misses. In a way, this is not desirable, as the operating system has to fetch data or instructions that the program needs to continue execution. Thus, delaying the process execution. \n",
    "\n",
    "In our machine setup we have a tree level cache topology with sizes: 32Kb, 256Kb, and 10Mb. We can observe other machine characteristics by applying the *likwid-topology* command."
   ]
  },
  {
   "cell_type": "code",
   "execution_count": 63,
   "metadata": {
    "collapsed": false
   },
   "outputs": [
    {
     "name": "stdout",
     "output_type": "stream",
     "text": [
      "--------------------------------------------------------------------------------\n",
      "CPU name:\tIntel(R) Xeon(R) CPU E5-2403 0 @ 1.80GHz\n",
      "CPU type:\tIntel Xeon SandyBridge EN/EP processor\n",
      "CPU stepping:\t7\n",
      "********************************************************************************\n",
      "Hardware Thread Topology\n",
      "********************************************************************************\n",
      "Sockets:\t\t1\n",
      "Cores per socket:\t4\n",
      "Threads per core:\t1\n",
      "--------------------------------------------------------------------------------\n",
      "HWThread\tThread\t\tCore\t\tSocket\t\tAvailable\n",
      "0\t\t0\t\t0\t\t0\t\t*\n",
      "1\t\t0\t\t1\t\t0\t\t*\n",
      "2\t\t0\t\t2\t\t0\t\t*\n",
      "3\t\t0\t\t3\t\t0\t\t*\n",
      "--------------------------------------------------------------------------------\n",
      "Socket 0:\t\t( 0 1 2 3 )\n",
      "--------------------------------------------------------------------------------\n",
      "********************************************************************************\n",
      "Cache Topology\n",
      "********************************************************************************\n",
      "Level:\t\t\t1\n",
      "Size:\t\t\t32 kB\n",
      "Cache groups:\t\t( 0 ) ( 1 ) ( 2 ) ( 3 )\n",
      "--------------------------------------------------------------------------------\n",
      "Level:\t\t\t2\n",
      "Size:\t\t\t256 kB\n",
      "Cache groups:\t\t( 0 ) ( 1 ) ( 2 ) ( 3 )\n",
      "--------------------------------------------------------------------------------\n",
      "Level:\t\t\t3\n",
      "Size:\t\t\t10 MB\n",
      "Cache groups:\t\t( 0 1 2 3 )\n",
      "--------------------------------------------------------------------------------\n",
      "********************************************************************************\n",
      "NUMA Topology\n",
      "********************************************************************************\n",
      "NUMA domains:\t\t1\n",
      "--------------------------------------------------------------------------------\n",
      "Domain:\t\t\t0\n",
      "Processors:\t\t( 0 1 2 3 )\n",
      "Distances:\t\t10\n",
      "Free memory:\t\t2301.68 MB\n",
      "Total memory:\t\t3899.85 MB\n",
      "--------------------------------------------------------------------------------\n"
     ]
    }
   ],
   "source": [
    "%%bash\n",
    "likwid-topology"
   ]
  },
  {
   "cell_type": "markdown",
   "metadata": {},
   "source": [
    "In both out examples, the code size of both quicksort and heapsort is relatively small. Therefore, we do not expect to see to many cache misses. However, data size do exceed L2 and L1 sizes. Moreover, since multiprogramming is applied. Processes will not be allocated the complete cache size. See the file sizes as follows, "
   ]
  },
  {
   "cell_type": "code",
   "execution_count": 7,
   "metadata": {
    "collapsed": false
   },
   "outputs": [
    {
     "name": "stdout",
     "output_type": "stream",
     "text": [
      "total 47788\n",
      "drwxrwxr-x  2 ahiralesc ahiralesc    4096 Nov 14 07:55 .\n",
      "drwxrwxr-x 10 ahiralesc ahiralesc    4096 Nov 14 07:55 ..\n",
      "-rw-rw-r--  1 ahiralesc ahiralesc 8889129 Nov 14 07:55 1000000.txt\n",
      "-rw-rw-r--  1 ahiralesc ahiralesc  888916 Nov 14 07:55 100000.txt\n",
      "-rw-rw-r--  1 ahiralesc ahiralesc 1777817 Nov 14 07:55 200000.txt\n",
      "-rw-rw-r--  1 ahiralesc ahiralesc 2666743 Nov 14 07:55 300000.txt\n",
      "-rw-rw-r--  1 ahiralesc ahiralesc 3555514 Nov 14 07:55 400000.txt\n",
      "-rw-rw-r--  1 ahiralesc ahiralesc 4444359 Nov 14 07:55 500000.txt\n",
      "-rw-rw-r--  1 ahiralesc ahiralesc 5333421 Nov 14 07:55 600000.txt\n",
      "-rw-rw-r--  1 ahiralesc ahiralesc 6222375 Nov 14 07:55 700000.txt\n",
      "-rw-rw-r--  1 ahiralesc ahiralesc 7111236 Nov 14 07:55 800000.txt\n",
      "-rw-rw-r--  1 ahiralesc ahiralesc 8000182 Nov 14 07:55 900000.txt\n"
     ]
    }
   ],
   "source": [
    "%%bash\n",
    "ls -al workload/"
   ]
  },
  {
   "cell_type": "markdown",
   "metadata": {},
   "source": [
    "The smallest size caches in the machine testbed are TLB_DATA and TLB_INSTR, these are equivalent to the cache memory in figure 3. To analyze the performance of the algorithms we will use *likwid-perfctr* command. Before instrumentation dont forget to compile your project and create the executables."
   ]
  },
  {
   "cell_type": "code",
   "execution_count": 8,
   "metadata": {
    "collapsed": false
   },
   "outputs": [
    {
     "name": "stdout",
     "output_type": "stream",
     "text": [
      "-- The C compiler identification is GNU 5.4.0\n",
      "-- The CXX compiler identification is GNU 5.4.0\n",
      "-- Check for working C compiler: /usr/bin/cc\n",
      "-- Check for working C compiler: /usr/bin/cc -- works\n",
      "-- Detecting C compiler ABI info\n",
      "-- Detecting C compiler ABI info - done\n",
      "-- Detecting C compile features\n",
      "-- Detecting C compile features - done\n",
      "-- Check for working CXX compiler: /usr/bin/c++\n",
      "-- Check for working CXX compiler: /usr/bin/c++ -- works\n",
      "-- Detecting CXX compiler ABI info\n",
      "-- Detecting CXX compiler ABI info - done\n",
      "-- Detecting CXX compile features\n",
      "-- Detecting CXX compile features - done\n",
      "-- Configuring done\n",
      "-- Generating done\n",
      "-- Build files have been written to: /home/ahiralesc/mysrc/unit_testing_with_cmake/performance_evaluation/build\n"
     ]
    }
   ],
   "source": [
    "%%bash\n",
    "cmake -Bbuild -H."
   ]
  },
  {
   "cell_type": "code",
   "execution_count": 9,
   "metadata": {
    "collapsed": false
   },
   "outputs": [
    {
     "name": "stdout",
     "output_type": "stream",
     "text": [
      "/home/ahiralesc/mysrc/unit_testing_with_cmake/performance_evaluation/build\n",
      "Scanning dependencies of target heapsort\n",
      "[ 25%] Building CXX object CMakeFiles/heapsort.dir/src/heapsort.cpp.o\n",
      "[ 50%] Linking CXX executable heapsort\n",
      "[ 50%] Built target heapsort\n",
      "Scanning dependencies of target quicksort\n",
      "[ 75%] Building CXX object CMakeFiles/quicksort.dir/src/quicksort.cpp.o\n",
      "[100%] Linking CXX executable quicksort\n",
      "[100%] Built target quicksort\n"
     ]
    }
   ],
   "source": [
    "%%bash\n",
    "cd build\n",
    "pwd\n",
    "make"
   ]
  },
  {
   "cell_type": "code",
   "execution_count": 88,
   "metadata": {
    "collapsed": false
   },
   "outputs": [],
   "source": [
    "%%bash\n",
    "for i in {100000..1000000..100000} \n",
    "do \n",
    "    sfn=workload/\"$i\".txt                 # source file name\n",
    "    for metric in TLB_DATA TLB_INSTR; do  # metrics\n",
    "        tfn=analysis/\"$metric\"_\"$i\".csv   # target file name\n",
    "        likwid-perfctr -C 0-3 -g \"$metric\" -O ./build/quicksort workload/\"$sfn\" \"$i\" > \"$tfn\"\n",
    "    done\n",
    "done"
   ]
  },
  {
   "cell_type": "markdown",
   "metadata": {},
   "source": [
    "In the previous cell, experiments are executed and instrumented. The resulting statistics are stored in the analysis subdirectory."
   ]
  },
  {
   "cell_type": "code",
   "execution_count": 10,
   "metadata": {
    "collapsed": false
   },
   "outputs": [
    {
     "name": "stdout",
     "output_type": "stream",
     "text": [
      "total 88\n",
      "drwxrwxr-x  2 ahiralesc ahiralesc 4096 Nov 12 11:04 .\n",
      "drwxrwxr-x 10 ahiralesc ahiralesc 4096 Nov 13 07:27 ..\n",
      "-rw-rw-r--  1 ahiralesc ahiralesc 2856 Nov 12 11:27 TLB_DATA_100000.csv\n",
      "-rw-rw-r--  1 ahiralesc ahiralesc 2751 Nov 12 11:26 TLB_DATA_10000.csv\n",
      "-rw-rw-r--  1 ahiralesc ahiralesc 2769 Nov 12 11:26 TLB_DATA_20000.csv\n",
      "-rw-rw-r--  1 ahiralesc ahiralesc 2798 Nov 12 11:26 TLB_DATA_30000.csv\n",
      "-rw-rw-r--  1 ahiralesc ahiralesc 2793 Nov 12 11:26 TLB_DATA_40000.csv\n",
      "-rw-rw-r--  1 ahiralesc ahiralesc 2792 Nov 12 11:26 TLB_DATA_50000.csv\n",
      "-rw-rw-r--  1 ahiralesc ahiralesc 2814 Nov 12 11:26 TLB_DATA_60000.csv\n",
      "-rw-rw-r--  1 ahiralesc ahiralesc 2839 Nov 12 11:26 TLB_DATA_70000.csv\n",
      "-rw-rw-r--  1 ahiralesc ahiralesc 2853 Nov 12 11:26 TLB_DATA_80000.csv\n",
      "-rw-rw-r--  1 ahiralesc ahiralesc 2840 Nov 12 11:27 TLB_DATA_90000.csv\n",
      "-rw-rw-r--  1 ahiralesc ahiralesc 2196 Nov 12 11:27 TLB_INSTR_100000.csv\n",
      "-rw-rw-r--  1 ahiralesc ahiralesc 2138 Nov 12 11:26 TLB_INSTR_10000.csv\n",
      "-rw-rw-r--  1 ahiralesc ahiralesc 2129 Nov 12 11:26 TLB_INSTR_20000.csv\n",
      "-rw-rw-r--  1 ahiralesc ahiralesc 2136 Nov 12 11:26 TLB_INSTR_30000.csv\n",
      "-rw-rw-r--  1 ahiralesc ahiralesc 2144 Nov 12 11:26 TLB_INSTR_40000.csv\n",
      "-rw-rw-r--  1 ahiralesc ahiralesc 2165 Nov 12 11:26 TLB_INSTR_50000.csv\n",
      "-rw-rw-r--  1 ahiralesc ahiralesc 2159 Nov 12 11:26 TLB_INSTR_60000.csv\n",
      "-rw-rw-r--  1 ahiralesc ahiralesc 2153 Nov 12 11:26 TLB_INSTR_70000.csv\n",
      "-rw-rw-r--  1 ahiralesc ahiralesc 2193 Nov 12 11:27 TLB_INSTR_80000.csv\n",
      "-rw-rw-r--  1 ahiralesc ahiralesc 2192 Nov 12 11:27 TLB_INSTR_90000.csv\n"
     ]
    }
   ],
   "source": [
    "%%bash\n",
    "ls -al analysis"
   ]
  },
  {
   "cell_type": "markdown",
   "metadata": {},
   "source": [
    "Next, we want to analyze the TLB cache misses for each of the four cores in the machine. If you open one of the previous statistics files you will see that many parameters were instrumented for a the TLB_DATA and TLB_INSTR groups. For our analysis, we only care in uderstanding how many TLB misses occurred for data and instructions in each of the four cores. To do so, the following script extracts the desired data. See code comments."
   ]
  },
  {
   "cell_type": "code",
   "execution_count": 28,
   "metadata": {
    "collapsed": false
   },
   "outputs": [],
   "source": [
    "%%bash\n",
    "if [ -f analysis/tlb_data_misses.txt ]; then\n",
    "    rm analysis/tlb_data_misses.txt\n",
    "fi\n",
    "\n",
    "for i in $(ls -AS analysis/TLB_DATA*); do\n",
    "    stats=$(cat \"$i\" | grep \"L1 DTLB load misses STAT\"  | cut -d',' -f 2,3,4,5)\n",
    "    xbase=${i##*/}        # extract the file name, i.e. TLB_DATA_100000.csv\n",
    "    xpref=${xbase%.*}     # extract the file name witout extension i.e. TLB_DATA_100000\n",
    "    length=${#xpref}      # get the size of the string\n",
    "    wkl=${xpref:9:length} # get the substring corresponding to the workload size\n",
    "    echo -e \"$wkl, $stats\" >> analysis/tlb_data_misses.txt\n",
    "done"
   ]
  },
  {
   "cell_type": "markdown",
   "metadata": {},
   "source": [
    "The parsed files extract the four cores TLB cache misses. The first column correspond to the log file size, columns two to the last containe the TLB cache miss counts. "
   ]
  },
  {
   "cell_type": "code",
   "execution_count": 77,
   "metadata": {
    "collapsed": false
   },
   "outputs": [
    {
     "name": "stdout",
     "output_type": "stream",
     "text": [
      "100000, 40663,4955,12993,10165.7500\r\n",
      "80000, 201176,4015,175739,50294\r\n",
      "90000, 56640,4647,19615,14160\r\n",
      "70000, 49593,3778,28639,12398.2500\r\n",
      "60000, 46932,3370,18220,11733\r\n",
      "30000, 8002,1163,2501,2000.5000\r\n",
      "40000, 9569,841,3418,2392.2500\r\n",
      "50000, 11700,2811,3089,2925\r\n",
      "20000, 4790,566,2358,1197.5000\r\n",
      "10000, 3872,207,2156,968\r\n"
     ]
    }
   ],
   "source": [
    "cat analysis/tlb_data_misses.txt"
   ]
  },
  {
   "cell_type": "code",
   "execution_count": 1,
   "metadata": {
    "collapsed": false
   },
   "outputs": [],
   "source": [
    "import pandas as pd\n",
    "%matplotlib inline"
   ]
  },
  {
   "cell_type": "code",
   "execution_count": 81,
   "metadata": {
    "collapsed": false
   },
   "outputs": [
    {
     "data": {
      "text/plain": [
       "<matplotlib.axes._subplots.AxesSubplot at 0x7fefbc830da0>"
      ]
     },
     "execution_count": 81,
     "metadata": {},
     "output_type": "execute_result"
    },
    {
     "data": {
      "image/png": "[encoded data removed]",
      "text/plain": [
       "<matplotlib.figure.Figure at 0x7fefbc7ebba8>"
      ]
     },
     "metadata": {},
     "output_type": "display_data"
    }
   ],
   "source": [
    "data = pd.read_csv(\"analysis/tlb_data_misses.txt\", header=None)\n",
    "data.columns = [\"size\", \"core-1\", \"core-2\", \"core-3\",\"core-4\"]\n",
    "data = data.sort_values('size')\n",
    "data.plot(x ='size', kind = 'line', title='Quicksort TLB cache miss count')"
   ]
  },
  {
   "cell_type": "markdown",
   "metadata": {},
   "source": [
    "**Assigment 1**:\n",
    "1. Read *Denning, P. J. The Locality Principle Commun. ACM, ACM, 2005, 48, 19-24* and explain quicksort cache TLB usage behaviour? \n",
    "2. Run the heapsort experiments, compute the line plot, and explain heapsort cache TLB usage behaviour?\n",
    "3. Wich program performed best?\n",
    "\n",
    "**Replace the red colored text and write the answer for assigment 1 question 1**\n",
    "\n",
    "<p style=\"color:#FF333D\";>Explain quicksort cache TLB usage behaviour?</p>\n",
    "\n",
    "<p style=\"color:#334DFF\";>To write your comments here. Replace this text.</p>\n",
    "\n",
    "**In the following cells, write a batch program that executes heapsort experiments**\n"
   ]
  },
  {
   "cell_type": "code",
   "execution_count": null,
   "metadata": {
    "collapsed": true
   },
   "outputs": [],
   "source": [
    "%%bash\n",
    "# Write your batch program that executes heapsort experiments here\n"
   ]
  },
  {
   "cell_type": "markdown",
   "metadata": {},
   "source": [
    "**Plot your heapsort cache TLB usage** in the following cell"
   ]
  },
  {
   "cell_type": "code",
   "execution_count": null,
   "metadata": {
    "collapsed": true
   },
   "outputs": [],
   "source": [
    "# Write your heapsort plotting rutine here\n"
   ]
  },
  {
   "cell_type": "markdown",
   "metadata": {},
   "source": [
    "**Replace the red colored text and write the answer for assigment 1 question 2**\n",
    "\n",
    "<p style=\"color:#FF333D\";>Explain heapsort cache TLB usage behaviour?</p>\n",
    "\n",
    "<p style=\"color:#334DFF\";>To write your comments here. Replace this text.</p>\n",
    "\n",
    "**Replace the red colored text and write the answer for assigment 1 question 3**\n",
    "\n",
    "<p style=\"color:#FF333D\";>Which program performed best?</p>\n",
    "\n",
    "<p style=\"color:#334DFF\";>To write your comments here. Replace this text.</p>"
   ]
  },
  {
   "cell_type": "markdown",
   "metadata": {},
   "source": [
    "**Assigment 2**:\n",
    "\n",
    "1. Analyze heapsort and quicksort power consumtion. Plot your results.\n",
    "2. Which program consumed more power?\n",
    "\n",
    "Add as many cells as you need to instrument, plot your results, and discuss your results."
   ]
  }
 ],
 "metadata": {
  "kernelspec": {
   "display_name": "Python 3",
   "language": "python",
   "name": "python3"
  },
  "language_info": {
   "codemirror_mode": {
    "name": "ipython",
    "version": 3
   },
   "file_extension": ".py",
   "mimetype": "text/x-python",
   "name": "python",
   "nbconvert_exporter": "python",
   "pygments_lexer": "ipython3",
   "version": "3.5.2"
  }
 },
 "nbformat": 4,
 "nbformat_minor": 2
}
