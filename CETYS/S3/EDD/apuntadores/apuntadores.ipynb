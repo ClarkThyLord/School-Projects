{
 "cells": [
  {
   "cell_type": "markdown",
   "metadata": {},
   "source": [
    "## Arreglos y apuntadores.\n",
    "\n",
    "Competencias:\n",
    "- Definicion de arreglos, matrices y literales constantes.\n",
    "- Aplicar apuntadores para acceder al contenido de arreglos y matrices.\n",
    "- Identificar el paso de argumentos por copia y referencia."
   ]
  },
  {
   "cell_type": "code",
   "execution_count": null,
   "metadata": {},
   "outputs": [],
   "source": [
    "#include <iostream>              // Accede a E/S estandar"
   ]
  },
  {
   "cell_type": "code",
   "execution_count": null,
   "metadata": {},
   "outputs": [],
   "source": [
    "int a1[] = {1,2,3,4,5};          // inicializacion estatica en stack. No vale actualizacion. "
   ]
  },
  {
   "cell_type": "code",
   "execution_count": null,
   "metadata": {},
   "outputs": [],
   "source": [
    "std::cout << a1 << std::endl;    // a1 apunta a la direccion de memoria del arreglo\n",
    "std::cout << a1[0] << std::endl; // direccion base de a1 + offset cero y acceso a contenido\n",
    "std::cout << a1[1] << std::endl; // direccion base de a1 + offset uno y acceso a contenido"
   ]
  },
  {
   "cell_type": "code",
   "execution_count": null,
   "metadata": {},
   "outputs": [],
   "source": [
    "int a2[5] = {1,2,3};              // inicializacion estatica en stack. Elementos restantes inicializados a cero.\n",
    "char a3[] = \"literal de cadena\";  // inicializacion estatica en stack. Vale actualizacion."
   ]
  },
  {
   "cell_type": "code",
   "execution_count": null,
   "metadata": {},
   "outputs": [],
   "source": [
    "std::cout << a3 << std::endl;     // # ________________________________________________"
   ]
  },
  {
   "cell_type": "code",
   "execution_count": null,
   "metadata": {},
   "outputs": [],
   "source": [
    "a3[0] = 'L';                      // Actualizacion del primer caracter de a3"
   ]
  },
  {
   "cell_type": "code",
   "execution_count": null,
   "metadata": {},
   "outputs": [],
   "source": [
    "std::cout << a3 << std::endl;     // Accede a memoria de a3 e itera hasta encontrar 0"
   ]
  },
  {
   "cell_type": "markdown",
   "metadata": {},
   "source": [
    "Considere la siguiente funcion."
   ]
  },
  {
   "cell_type": "code",
   "execution_count": null,
   "metadata": {},
   "outputs": [],
   "source": [
    "const char* retorna_msg() {\n",
    "    return \"un mensaje\";\n",
    "}"
   ]
  },
  {
   "cell_type": "markdown",
   "metadata": {},
   "source": [
    "**1. Considere el tipo del valor de retorno de retorna_msg. Cual de las siguientes proposiciones es Falsa?**\n",
    "```C\n",
    "a) La literal de retorno es constante. No vale actualizacion.\n",
    "b) La memoria liberada es constante. La memoria no es liberada despues de la invocacion a retorna_msg.\n",
    "d) La literal de retorno es mofificable.\n",
    "```"
   ]
  },
  {
   "cell_type": "code",
   "execution_count": null,
   "metadata": {},
   "outputs": [],
   "source": [
    "// const char* c1 = retorna_msg();\n",
    "// c1[0] = 'M';"
   ]
  },
  {
   "cell_type": "code",
   "execution_count": null,
   "metadata": {},
   "outputs": [],
   "source": [
    "Literales de cadenas en multiples lineas pueden ser separados por espacio. El compilador los concatena. e.g."
   ]
  },
  {
   "cell_type": "code",
   "execution_count": null,
   "metadata": {},
   "outputs": [],
   "source": [
    "char cadenaExtensa[] = \"abcdefghijklmn\"  // dos literales de cadena separados por espacios y retorno.\n",
    "    \"opqrstuvswxyz\";                "
   ]
  },
  {
   "cell_type": "code",
   "execution_count": null,
   "metadata": {},
   "outputs": [],
   "source": [
    "std::cout << cadenaExtensa << std::endl;  // los literales son concatenados"
   ]
  },
  {
   "cell_type": "markdown",
   "metadata": {},
   "source": [
    "## Apuntadores a arreglos\n",
    "\n",
    "Recuerde, el nombre del arreglo almacena la direccion inicial."
   ]
  },
  {
   "cell_type": "code",
   "execution_count": null,
   "metadata": {},
   "outputs": [],
   "source": [
    "int a4[] = {1,2,3,4};\n",
    "\n",
    "int *ap41 = a4;      // apunta a la direccion inicial, conversion implicita de tipo\n",
    "int *ap42 = &a4[0];  // el operador unitario & accede a la direccion base de a4 y se aplica un offset de cero\n",
    "int *ap43 = a4+3;    // se accede a la direccion base y se aplica un offset de 3"
   ]
  },
  {
   "cell_type": "code",
   "execution_count": null,
   "metadata": {},
   "outputs": [],
   "source": [
    "std::cout << *ap41 << std::endl;  // primer elemento\n",
    "std::cout << *ap42 << std::endl;  // primer elemento\n",
    "std::cout << *ap43 << std::endl;  // ultimo elemento"
   ]
  },
  {
   "cell_type": "markdown",
   "metadata": {},
   "source": [
    "**2. Cual de las siguientes referencias a memoria es erronea?**\n",
    "```C\n",
    "a) a4 + 0;\n",
    "b) a4 - 1;\n",
    "c) a4 + 7;\n",
    "d) a4 + 2;\n",
    "```"
   ]
  },
  {
   "cell_type": "markdown",
   "metadata": {},
   "source": [
    "Metodos para la iteracion de arreglos"
   ]
  },
  {
   "cell_type": "code",
   "execution_count": null,
   "metadata": {},
   "outputs": [],
   "source": [
    "char a6[] = \"you shall not pass\";"
   ]
  },
  {
   "cell_type": "code",
   "execution_count": null,
   "metadata": {},
   "outputs": [],
   "source": [
    "for (int i=0; a6[i]!=0; ++i){  // Metodo 1. clasico\n",
    "    std::cout << a6[i];\n",
    "}"
   ]
  },
  {
   "cell_type": "code",
   "execution_count": null,
   "metadata": {},
   "outputs": [],
   "source": [
    "for (char* p=a6; *p!=0; ++p){  // Metodo 2. apuntadores\n",
    "    std::cout << *p;\n",
    "}"
   ]
  },
  {
   "cell_type": "code",
   "execution_count": null,
   "metadata": {},
   "outputs": [],
   "source": [
    "for (auto x = std::begin(a6); x != std::end(a6); )  // Metodo 3. apuntadores\n",
    "{\n",
    "    std::cout <<*x++<< ' ';      // la direccion es incrementada, despues se accede a su contenido\n",
    "}"
   ]
  },
  {
   "cell_type": "code",
   "execution_count": null,
   "metadata": {},
   "outputs": [],
   "source": [
    "for(auto p:a6) {    // Metodo 4. clasico ver. 2\n",
    "    std::cout << p;\n",
    "}"
   ]
  },
  {
   "cell_type": "code",
   "execution_count": null,
   "metadata": {},
   "outputs": [],
   "source": [
    "int i = 0;         // Metodo 5. utilizando while\n",
    "auto* p = a6;      // conversion implicita\n",
    "while(i[p]!=0){\n",
    "    std::cout <<*p++<< ' ';\n",
    "}"
   ]
  },
  {
   "cell_type": "markdown",
   "metadata": {},
   "source": [
    "**Asignacion 1. ** Utilizando el metodo 3 de iteracion, imprima la cadena en orden inverso"
   ]
  },
  {
   "cell_type": "code",
   "execution_count": null,
   "metadata": {},
   "outputs": [],
   "source": [
    "// Coloque el codigo de la asignacion 1 en esta celda\n",
    "for (auto x = std::end(a6); x != std::begin(a6); )\n",
    "{\n",
    "    std::cout << *--x;\n",
    "}"
   ]
  },
  {
   "cell_type": "markdown",
   "metadata": {},
   "source": [
    "**Asignacion 2. ** Utilizando el metodo 5 de iteracion, escriba una funcion que estime la longitud de la cadena. "
   ]
  },
  {
   "cell_type": "code",
   "execution_count": null,
   "metadata": {},
   "outputs": [],
   "source": [
    "// Coloque el codigo de la asignacion 2 en esta celda\n",
    "int i = 0;\n",
    "auto* p = a6;\n",
    "while(i[p] != 0){\n",
    "    i++;\n",
    "}\n",
    "std::cout << i;"
   ]
  },
  {
   "cell_type": "markdown",
   "metadata": {},
   "source": [
    "**3. Cual de las siguientes expresiones no es equivalente a a6[j]? considere j = 1**\n",
    "```C\n",
    "a) 1[a6];\n",
    "b) *(1+a6);\n",
    "c) *(a6+1);\n",
    "d) *(&a6[0]+1)\n",
    "```"
   ]
  },
  {
   "cell_type": "code",
   "execution_count": null,
   "metadata": {},
   "outputs": [],
   "source": [
    "// Evalue las anteriores expresiones\n",
    "// std::cout << 1[a6] << std::endl;\n",
    "// std::cout << *(1+a6) << std::endl;\n",
    "// std::cout << *(a6+1) << std::endl;\n",
    "// std::cout << *(&a6[0]+1) << std::endl;"
   ]
  },
  {
   "cell_type": "markdown",
   "metadata": {},
   "source": [
    "Declaracion e inicializacion de un arreglo bidimensional"
   ]
  },
  {
   "cell_type": "code",
   "execution_count": null,
   "metadata": {},
   "outputs": [],
   "source": [
    "// int a7[4][4];                     // sin inicializacion por usuario, inicializacion por omision a cero\n",
    "\n",
    "int a8[4][4] = { {1,2,3},{4,5,6}};   // inicializa los tres primeros elementos de la primera y segunda linea"
   ]
  },
  {
   "cell_type": "code",
   "execution_count": null,
   "metadata": {},
   "outputs": [],
   "source": [
    "for(int i=0; i!=4; i++){\n",
    "    for(int j=0; j!=4; j++)\n",
    "        std::cout<< a8[i][j] << '\\t';\n",
    "    std::cout << '\\n';\n",
    "}"
   ]
  },
  {
   "cell_type": "markdown",
   "metadata": {},
   "source": [
    "**4. Cual de las declaraciones es incorrecta?**\n",
    "```C\n",
    "a) int m1[4][4];\n",
    "b) int m1[4,4];\n",
    "c) int m1(4,4);\n",
    "```"
   ]
  },
  {
   "cell_type": "markdown",
   "metadata": {},
   "source": [
    "Definir una firma con un tamano constante de arreglo produce perdida o fallo. Por ejemplo,"
   ]
  },
  {
   "cell_type": "code",
   "execution_count": null,
   "metadata": {},
   "outputs": [],
   "source": [
    "void imprime_erroneo(int a[10]) {\n",
    "    for(int i=0; i!=10; i++)\n",
    "        std::cout << a[i] << '\\t';\n",
    "}"
   ]
  },
  {
   "cell_type": "markdown",
   "metadata": {},
   "source": [
    "**5. Como pasa los argumentos imprime_erroneo?**\n",
    "```C\n",
    "a) Por valor\n",
    "b) Por referencia\n",
    "```"
   ]
  },
  {
   "cell_type": "code",
   "execution_count": null,
   "metadata": {},
   "outputs": [],
   "source": [
    "int a8[10];\n",
    "int a9[5];\n",
    "int a10[80];"
   ]
  },
  {
   "cell_type": "markdown",
   "metadata": {},
   "source": [
    "**6. Cual de las siguientes instrucciones produce error?**\n",
    "```C\n",
    "a) imprime_erroneo(a8);\n",
    "b) imprime_erroneo(a5);\n",
    "c) imprime_erroneo(a10);\n",
    "```\n",
    "\n",
    "Explique que error ocurrio para los casos que aplique."
   ]
  },
  {
   "cell_type": "code",
   "execution_count": null,
   "metadata": {},
   "outputs": [],
   "source": [
    "// imprime_erroneo(a8);\n",
    "// imprime_erroneo(a5);\n",
    "// imprime_erroneo(a10);"
   ]
  },
  {
   "cell_type": "code",
   "execution_count": null,
   "metadata": {},
   "outputs": [],
   "source": [
    "void imprime_matriz(int* m, int d1, int d2){\n",
    "    for(int i=0; i!=d1; i++) {\n",
    "        for(int j=0; j!=d2; j++)\n",
    "            std::cout << m[i*d1+j] << '\\t'; // # ____________________________________________________________\n",
    "        std::cout << '\\n';\n",
    "    }\n",
    "}"
   ]
  },
  {
   "cell_type": "markdown",
   "metadata": {},
   "source": [
    "La adquisicion y liberacion de memoria se realiza por new and delete correspondientemente. Es comun ocurra memory leakage cuando no se libera la memoria o errores de acceso a memoria, e.g."
   ]
  },
  {
   "cell_type": "code",
   "execution_count": null,
   "metadata": {},
   "outputs": [],
   "source": [
    "void operacion(int *p) {\n",
    "    delete p;\n",
    "}\n",
    "\n",
    "int* pe = new int{7};\n",
    "operacion(pe);         // La logica es correcta?"
   ]
  },
  {
   "cell_type": "code",
   "execution_count": null,
   "metadata": {},
   "outputs": [],
   "source": [
    "// Ahora considere\n",
    "int np = int{7};\n",
    "int *ip = &np;\n",
    "operacion(ip);"
   ]
  },
  {
   "cell_type": "markdown",
   "metadata": {},
   "source": [
    "**7. Cual es el resultado de la operacion?**\n",
    "```C\n",
    "a) Se reserva memoria en free storage y se libera.\n",
    "b) Se reserva memoria en el stack y se libera.\n",
    "c) Se reserva memoria en el stack y se intenta liberar, pero produce una excepcion.\n",
    "```"
   ]
  },
  {
   "cell_type": "markdown",
   "metadata": {},
   "source": [
    "## Conjuntos dinamicos: lista ligada\n",
    "\n",
    "Componentes de un elemento en un conjunto dinamico:\n",
    "- Key, elemento que identifica al objeto;\n",
    "- Satellate data, datos a almacenar.\n",
    "\n",
    "Operaciones:\n",
    "- Search(S, k), dado el conjunto S y la llave k, regresa el apuntador x al elemento en S talque key[x]=k, caso contrario NIL.\n",
    "- Insert(S,x), dado el conjunto S y el valor x. Inserta x en S.\n",
    "- Delete(S,x), dado el conjunto S y el valor x. Borra x en S.\n",
    "- Minimum(S), regresa el valor minimo en S.\n",
    "- Maximum(S), regresa el valor maximo en S.\n",
    "- Successor(S,x), regresa el sucesor de x.\n",
    "- Predecessor(S,x), regresa el predecesor de x.\n",
    "\n",
    "Clases de listas ligadas: single and doubly linked list."
   ]
  },
  {
   "cell_type": "code",
   "execution_count": null,
   "metadata": {},
   "outputs": [],
   "source": [
    "struct Node {\n",
    "    \n",
    "    Node* next = nullptr;       // el siguiente node\n",
    "    int payload;                // el dato a guardar\n",
    "    \n",
    "      \n",
    "    public:\n",
    "    Node(int payload){\n",
    "        this->payload = payload; // inicializa el payload\n",
    "    }\n",
    "}"
   ]
  },
  {
   "cell_type": "code",
   "execution_count": null,
   "metadata": {},
   "outputs": [],
   "source": [
    "class List{\n",
    "    Node* head;\n",
    "    \n",
    "    public:\n",
    "        List(){\n",
    "            head = nullptr;\n",
    "        }\n",
    "\n",
    "    \n",
    "        Node* search(int payload) {\n",
    "        /*\n",
    "            x = head[List]\n",
    "            while x != nullptr and key[x] != k:\n",
    "                x = next[x]\n",
    "            return x\n",
    "        */\n",
    "        }    \n",
    "    \n",
    "        void insert(int payload){\n",
    "        /*\n",
    "                next[x] = head[List]\n",
    "                if head[List] != nullptr\n",
    "                    prev[head[List]] = x\n",
    "                head[List] = x\n",
    "                prev[x] = nullptr\n",
    "            \n",
    "        */\n",
    "        } \n",
    "    \n",
    "        void erase(int payload) {\n",
    "        /*\n",
    "            if prev[x] != nullptr\n",
    "                next[prev[x]] = next[x]\n",
    "            else\n",
    "                head[List] = next[x]\n",
    "            if next[x] != nullptr\n",
    "                prev[next[x]] = prev[x]\n",
    "        */\n",
    "        }\n",
    "    \n",
    "}"
   ]
  },
  {
   "cell_type": "markdown",
   "metadata": {},
   "source": [
    "**Asignacion 3. **\n",
    "- Implemente las operaciones: minimum(S), maximum(S), successor(S,x) y predecessor(S,x),\n",
    "\n",
    "**Asignacion 3. ** \n",
    "1. Escriba una funcion que elimine valores duplicados.\n",
    "2. Escriba una funcion que regrese el valor que se encuentra en la posicion k-esima a el final de la lista.\n",
    "3. Escriba una funcion que borre el nodo que se encuentra en la mitad de la lista.\n",
    "4. Dado un valor x. Escriba una funcion que particione la lista en dos listas, talque los valores menores a x se encuentren en una lista y los mayores a x en la segunda lista."
   ]
  },
  {
   "cell_type": "code",
   "execution_count": 1,
   "metadata": {},
   "outputs": [
    {
     "name": "stdout",
     "output_type": "stream",
     "text": [
      "7\n",
      "8\n",
      "0\n",
      "-1\n"
     ]
    }
   ],
   "source": [
    "// Coloque el codigo de la asignacion 3 aqui\n",
    "#include <iostream>\n",
    "struct Node {\n",
    "    \n",
    "    Node* next = nullptr;       // el siguiente node\n",
    "    int payload;                // el dato a guardar\n",
    "    \n",
    "      \n",
    "    public:\n",
    "    Node(int payload)\n",
    "    {\n",
    "        this->payload = payload; // inicializa el payload\n",
    "    }\n",
    "};\n",
    "\n",
    "class List{\n",
    "    Node* head;\n",
    "    \n",
    "    public:\n",
    "        List()\n",
    "        {\n",
    "            head = nullptr;\n",
    "        }\n",
    "    \n",
    "        void insert(int payload)\n",
    "        {\n",
    "            if (head == nullptr) head = new Node(payload);\n",
    "            else\n",
    "            {\n",
    "                for (Node* current = head; true; )\n",
    "                {\n",
    "                    if (current -> next == nullptr)\n",
    "                    {\n",
    "                        current -> next = new Node(payload);\n",
    "                        break;\n",
    "                    }\n",
    "                    else current = current -> next;\n",
    "                }\n",
    "            }\n",
    "        } \n",
    "    \n",
    "        void erase(int payload)\n",
    "        {\n",
    "            if (head -> payload == payload)\n",
    "            {\n",
    "                Node* past_head = head;\n",
    "                head = head -> next;\n",
    "                delete past_head;\n",
    "            }\n",
    "            else\n",
    "            {\n",
    "                for (Node* current = head; current != nullptr; )\n",
    "                {\n",
    "                    if (current -> next == nullptr) break;\n",
    "                    if (current -> next -> payload == payload)\n",
    "                    {\n",
    "                        Node* past_node = current -> next;\n",
    "                        current -> next = current -> next -> next;\n",
    "                        delete past_node;\n",
    "                    }\n",
    "                    else current = current -> next;\n",
    "                }   \n",
    "            }\n",
    "        }\n",
    "\n",
    "        Node* search(int payload)\n",
    "        {\n",
    "            for (Node* current = head; current != nullptr; )\n",
    "            {\n",
    "                if (current -> payload == payload) return current;\n",
    "                else current = current -> next;\n",
    "            }\n",
    "            return nullptr;\n",
    "        }\n",
    "};\n",
    "\n",
    "\n",
    "// TESTS\n",
    "List test;\n",
    "test.insert(7);\n",
    "test.insert(8);\n",
    "test.insert(-1);\n",
    "std::cout << test.search(7) -> payload << '\\n';\n",
    "std::cout << test.search(8) -> payload << '\\n';\n",
    "test.erase(8);\n",
    "std::cout << test.search(8) << '\\n';\n",
    "std::cout << test.search(-1) -> payload << '\\n';"
   ]
  }
 ],
 "metadata": {
  "kernelspec": {
   "display_name": "C++17",
   "language": "C++17",
   "name": "xcpp17"
  },
  "language_info": {
   "codemirror_mode": "text/x-c++src",
   "file_extension": ".cpp",
   "mimetype": "text/x-c++src",
   "name": "c++",
   "version": "-std=c++17"
  }
 },
 "nbformat": 4,
 "nbformat_minor": 2
}
