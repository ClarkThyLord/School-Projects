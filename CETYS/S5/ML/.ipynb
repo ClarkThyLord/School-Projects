{
 "cells": [
  {
   "cell_type": "code",
   "execution_count": null,
   "metadata": {},
   "outputs": [],
   "source": [
    "import math\n",
    "import numpy\n",
    "from matplotlib import pyplot as plt"
   ]
  },
  {
   "cell_type": "markdown",
   "metadata": {},
   "source": [
    "1.1.Imprimir en pantalla la siguiente frase: “Hello,World!”"
   ]
  },
  {
   "cell_type": "code",
   "execution_count": null,
   "metadata": {},
   "outputs": [],
   "source": [
    "print(\"Hello,World!\")"
   ]
  },
  {
   "cell_type": "markdown",
   "metadata": {},
   "source": [
    "1.2.Crear  las  variables 𝑥=1 e 𝑦,  y  evaluar  la  siguiente  función: 𝑦=𝑓(𝑥)=3𝑥^2+2𝑥−6.  Despliegue en pantalla el resultado."
   ]
  },
  {
   "cell_type": "code",
   "execution_count": null,
   "metadata": {},
   "outputs": [],
   "source": [
    "x = 1\n",
    "y = 3 * x ** 2 + 2 * x - 6\n",
    "print(y)"
   ]
  },
  {
   "cell_type": "markdown",
   "metadata": {},
   "source": [
    "1.3.Crear  el  vector 𝑥=[−2,−1,0,1,2]y  evaluar  la  siguiente  función: 𝑦=𝑓(𝑥)=3𝑥^2+2𝑥−6. Despliegue en pantalla el resultadoy graficar los resultados obtenidos."
   ]
  },
  {
   "cell_type": "code",
   "execution_count": null,
   "metadata": {},
   "outputs": [],
   "source": [
    "x = [-2, -1, 0, 1, 2]\n",
    "y = [3 * n ** 2 + 2 * n - 6 for n in x]\n",
    "\n",
    "plt.title(\"1.3 f(x) = 3x^2 + 2x - 6\")\n",
    "plt.xlabel(\"x\")\n",
    "plt.ylabel(\"y\")\n",
    "plt.plot(x, y)\n",
    "plt.show()\n",
    "print(\"y = \", y)"
   ]
  },
  {
   "cell_type": "markdown",
   "metadata": {},
   "source": [
    "1.4.Crear el vector𝑥=[−2,−1.9,−1.8,...,2], notar que el primer elemento del vector es -2 y el último es 2, con lo cual se deduce que hay una separación de 0.1 entre los elementos del vector. Evaluar la siguiente  función: 𝑦=𝑓(𝑥)=3𝑥2+2𝑥−6 y  graficar  los  resultados.  Despliegue  en  pantalla  el resultado numérico y gráfico."
   ]
  },
  {
   "cell_type": "code",
   "execution_count": null,
   "metadata": {},
   "outputs": [],
   "source": [
    "x = [x * 0.1 for x in range(-20, 20)]\n",
    "y = [3 * n ** 2 + 2 * n - 6 for n in x]\n",
    "\n",
    "plt.title(\"1.4 f(x) = 3x^2 + 2x - 6 * n\")\n",
    "plt.xlabel(\"x\")\n",
    "plt.ylabel(\"y\")\n",
    "plt.plot(x, y)\n",
    "plt.show()\n",
    "print(\"y = \", y)"
   ]
  },
  {
   "cell_type": "markdown",
   "metadata": {},
   "source": [
    "1.5.Utilizar el vector 𝑥 creado en la actividad 1.4 y evaluar las siguientes funciones:1)𝑦=sin𝑥,2) 𝑦=log10𝑥,3) 𝑦=𝑒𝑥.Despliegue en pantalla el resultado numérico y gráfico."
   ]
  },
  {
   "cell_type": "code",
   "execution_count": null,
   "metadata": {},
   "outputs": [],
   "source": [
    "x = [x * 0.1 for x in range(-20, 20)]\n",
    "\n",
    "func_1 = [math.sin(n) for n in x]\n",
    "func_2 = [math.log(abs(n)) if n > 0 else None for n in x]\n",
    "func_3 = [math.e * n for n in x]\n",
    "\n",
    "plt.title(\"1.5 func_1(x) = sin(x)\")\n",
    "plt.xlabel(\"x\")\n",
    "plt.ylabel(\"y\")\n",
    "plt.plot(x, func_1)\n",
    "plt.show()\n",
    "print(\"func_1 = \", func_1)\n",
    "\n",
    "plt.title(\"1.5 func_2(x) = log(x)\")\n",
    "plt.xlabel(\"x\")\n",
    "plt.ylabel(\"y\")\n",
    "plt.plot(x, func_2)\n",
    "plt.show()\n",
    "print(\"func_2 = \", func_2)\n",
    "\n",
    "plt.title(\"1.5 func_3(x) = e^x\")\n",
    "plt.xlabel(\"x\")\n",
    "plt.ylabel(\"y\")\n",
    "plt.plot(x, func_3)\n",
    "plt.show()\n",
    "print(\"func_3 = \", func_3)"
   ]
  },
  {
   "cell_type": "markdown",
   "metadata": {},
   "source": [
    "1.6 Crear  los  vectores 𝑣1=[1,2,3,4]y 𝑣2=[2,4,6,8]y  realizar  las  siguientes  operaciones  elemento por elemento: 𝑣1∗𝑣2, 𝑣1/𝑣2, 𝑣1^2, 𝑣1+𝑣2, 𝑣1−𝑣2. Despliegue en pantalla los resultados."
   ]
  },
  {
   "cell_type": "code",
   "execution_count": null,
   "metadata": {},
   "outputs": [],
   "source": [
    "a = [1, 2, 3, 4]\n",
    "\n",
    "b = [2, 4, 6, 8]\n",
    "\n",
    "print(\"v1 * v2 = \", numpy.dot(a, b))\n",
    "print(\"v1 / v2 = \", numpy.divide(a, b))\n",
    "print(\"v1 ^ 2  = \", numpy.square(a))\n",
    "print(\"v1 + v2 = \", numpy.add(a, b))\n",
    "print(\"v1 - v2 = \", numpy.subtract(a, b))"
   ]
  },
  {
   "cell_type": "markdown",
   "metadata": {},
   "source": [
    "1.7 Crear las matrices 𝑀= [[4,3,-1], [2,1,0], [0,-4,3], [-1,0,6]] y N= [[-1,2,-2,0], [0,3,1,-1]] y realizar la multiplicación de matrices: "
   ]
  },
  {
   "cell_type": "code",
   "execution_count": null,
   "metadata": {},
   "outputs": [],
   "source": [
    "a = numpy.array([[4,2,0,-1], [3, 1, -4, 0], [-1, 0, 3, 6]])\n",
    "\n",
    "b = numpy.array([[-1, 0], [2, 3], [-2, 1], [0, -1]])\n",
    "\n",
    "print(\"L = \", numpy.dot(a, b))"
   ]
  },
  {
   "cell_type": "markdown",
   "metadata": {},
   "source": [
    "1.8.Realizar  un  programa  que  despliegue  una  caja,  un  ovalo,  una  flecha  y  un  diamante  utilizando asteriscos, como se muestra en la figura."
   ]
  },
  {
   "cell_type": "code",
   "execution_count": null,
   "metadata": {},
   "outputs": [],
   "source": [
    "result = \"\"\n",
    "for pos in range(81):\n",
    "    x = pos % 9\n",
    "    y = int(pos / 9)\n",
    "    if x == 9 - 1:\n",
    "        result += \"*\\n\"\n",
    "    elif x == 0 or y == 0 or y == 9 - 1:\n",
    "        result += \"*\"\n",
    "    else:\n",
    "        result += \" \"\n",
    "print(result)"
   ]
  },
  {
   "cell_type": "markdown",
   "metadata": {},
   "source": [
    "1.9. Realizar un programa que despliegue los siguientes patrones utilizando asteriscos."
   ]
  },
  {
   "cell_type": "code",
   "execution_count": null,
   "metadata": {},
   "outputs": [],
   "source": [
    "size = 0\n",
    "while True:\n",
    "    try:\n",
    "        size = int(input(\"Tamaño de Patrones: \"))\n",
    "        if size > 3 and size < 11: break\n",
    "    except ValueError: pass\n",
    "\n",
    "result = []\n",
    "for l in range(size):\n",
    "    result.append(\"\")\n",
    "    for c in range(size):\n",
    "        result[l] += \"*\" if c - 1 < l else \" \"\n",
    "\n",
    "p = \"\"\n",
    "for l in result:\n",
    "    p += l + \"\\n\"\n",
    "print(p)\n",
    "p = \"\"\n",
    "for l in result:\n",
    "    p += l[::-1] + \"\\n\"\n",
    "print(p)\n",
    "\n",
    "p = \"\"\n",
    "result = result[::-1]\n",
    "for l in result:\n",
    "    p += l + \"\\n\"\n",
    "print(p)\n",
    "p = \"\"\n",
    "for l in result:\n",
    "    p += l[::-1] + \"\\n\"\n",
    "print(p)\n"
   ]
  },
  {
   "cell_type": "markdown",
   "metadata": {},
   "source": [
    "1.10. Realizar un programa que despliegue un triángulo utilizando asteriscos. La altura será definida por el usuario, para el ejemplo de la figura la altura es 5."
   ]
  },
  {
   "cell_type": "code",
   "execution_count": 11,
   "metadata": {},
   "outputs": [
    {
     "name": "stdout",
     "output_type": "stream",
     "text": [
      "Tamaño de Base: 10\n",
      "level:  0\n",
      "level:  0\n",
      "level:  0\n",
      "level:  0\n",
      "level:  0\n",
      "level:  0\n",
      "level:  0\n",
      "level:  0\n",
      "level:  0\n",
      "level:  0\n",
      "level:  1\n",
      "level:  1\n",
      "level:  1\n",
      "level:  1\n",
      "level:  1\n",
      "level:  1\n",
      "level:  1\n",
      "level:  1\n",
      "level:  1\n",
      "level:  1\n",
      "level:  2\n",
      "level:  2\n",
      "level:  2\n",
      "level:  2\n",
      "level:  2\n",
      "level:  2\n",
      "level:  2\n",
      "level:  2\n",
      "level:  2\n",
      "level:  2\n",
      "level:  3\n",
      "level:  3\n",
      "level:  3\n",
      "level:  3\n",
      "level:  3\n",
      "level:  3\n",
      "level:  3\n",
      "level:  3\n",
      "level:  3\n",
      "level:  3\n",
      "level:  4\n",
      "level:  4\n",
      "level:  4\n",
      "level:  4\n",
      "level:  4\n",
      "level:  4\n",
      "level:  4\n",
      "level:  4\n",
      "level:  4\n",
      "level:  4\n",
      "level:  5\n",
      "level:  5\n",
      "level:  5\n",
      "level:  5\n",
      "level:  5\n",
      "level:  5\n",
      "level:  5\n",
      "level:  5\n",
      "level:  5\n",
      "level:  5\n",
      "level:  6\n",
      "level:  6\n",
      "level:  6\n",
      "level:  6\n",
      "level:  6\n",
      "level:  6\n",
      "level:  6\n",
      "level:  6\n",
      "level:  6\n",
      "level:  6\n",
      "level:  7\n",
      "level:  7\n",
      "level:  7\n",
      "level:  7\n",
      "level:  7\n",
      "level:  7\n",
      "level:  7\n",
      "level:  7\n",
      "level:  7\n",
      "level:  7\n",
      "level:  8\n",
      "level:  8\n",
      "level:  8\n",
      "level:  8\n",
      "level:  8\n",
      "level:  8\n",
      "level:  8\n",
      "level:  8\n",
      "level:  8\n",
      "level:  8\n",
      "level:  9\n",
      "level:  9\n",
      "level:  9\n",
      "level:  9\n",
      "level:  9\n",
      "level:  9\n",
      "level:  9\n",
      "level:  9\n",
      "level:  9\n",
      "level:  9\n",
      "     *    \n",
      "    ***   \n",
      "  ******* \n",
      "**********\n",
      "**********\n",
      "**********\n",
      "**********\n",
      "**********\n",
      "**********\n",
      "**********\n",
      "\n"
     ]
    }
   ],
   "source": [
    "size = 0\n",
    "while True:\n",
    "    try:\n",
    "        size = int(input(\"Tamaño de Base: \"))\n",
    "        if size > 0: break\n",
    "    except ValueError: pass\n",
    "\n",
    "\n",
    "result = \"\"\n",
    "for l in range(size):\n",
    "        print(\"level: \", l)\n",
    "        center = int(size / 2)\n",
    "        offset = l * 2\n",
    "    for c in range(size):\n",
    "        \n",
    "        if c == center or c < center + offset and c > center - offset:\n",
    "            result += \"*\"\n",
    "        else:\n",
    "            result += \" \"\n",
    "        \n",
    "        if c == size - 1:\n",
    "            result += \"\\n\"\n",
    "print(result)"
   ]
  },
  {
   "cell_type": "code",
   "execution_count": null,
   "metadata": {},
   "outputs": [],
   "source": []
  }
 ],
 "metadata": {
  "kernelspec": {
   "display_name": "Python 3",
   "language": "python",
   "name": "python3"
  },
  "language_info": {
   "codemirror_mode": {
    "name": "ipython",
    "version": 3
   },
   "file_extension": ".py",
   "mimetype": "text/x-python",
   "name": "python",
   "nbconvert_exporter": "python",
   "pygments_lexer": "ipython3",
   "version": "3.8.5"
  }
 },
 "nbformat": 4,
 "nbformat_minor": 4
}
